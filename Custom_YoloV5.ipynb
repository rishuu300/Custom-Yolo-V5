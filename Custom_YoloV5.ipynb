{
 "cells": [
  {
   "cell_type": "code",
   "execution_count": 1,
   "id": "b2135799",
   "metadata": {},
   "outputs": [
    {
     "name": "stdout",
     "output_type": "stream",
     "text": [
      "[WinError 3] The system cannot find the path specified: 'Custom_YoloV5/yolov5'\n",
      "c:\\Users\\91808\\Documents\\PW\\7. Deep Learning\\4. Object Detection\n"
     ]
    },
    {
     "name": "stderr",
     "output_type": "stream",
     "text": [
      "Cloning into 'yolov5'...\n",
      "C:\\Users\\91808\\AppData\\Roaming\\Python\\Python312\\site-packages\\IPython\\core\\magics\\osm.py:393: UserWarning: This is now an optional IPython functionality, using bookmarks requires you to install the `pickleshare` library.\n",
      "  bkms = self.shell.db.get('bookmarks', {})\n"
     ]
    }
   ],
   "source": [
    "!git clone https://github.com/ultralytics/yolov5.git\n",
    "%cd Custom_YoloV5/yolov5"
   ]
  },
  {
   "cell_type": "code",
   "execution_count": 39,
   "id": "93f2fa23",
   "metadata": {},
   "outputs": [
    {
     "name": "stdout",
     "output_type": "stream",
     "text": [
      "Requirement already satisfied: gitpython>=3.1.30 in c:\\users\\91808\\anaconda3\\lib\\site-packages (from -r requirements.txt (line 5)) (3.1.37)\n",
      "Requirement already satisfied: matplotlib>=3.3 in c:\\users\\91808\\anaconda3\\lib\\site-packages (from -r requirements.txt (line 6)) (3.8.4)\n",
      "Requirement already satisfied: numpy>=1.23.5 in c:\\users\\91808\\anaconda3\\lib\\site-packages (from -r requirements.txt (line 7)) (1.26.4)\n",
      "Requirement already satisfied: opencv-python>=4.1.1 in c:\\users\\91808\\anaconda3\\lib\\site-packages (from -r requirements.txt (line 8)) (4.11.0.86)\n",
      "Requirement already satisfied: pillow>=10.3.0 in c:\\users\\91808\\anaconda3\\lib\\site-packages (from -r requirements.txt (line 9)) (10.3.0)\n",
      "Requirement already satisfied: psutil in c:\\users\\91808\\appdata\\roaming\\python\\python312\\site-packages (from -r requirements.txt (line 10)) (6.0.0)\n",
      "Requirement already satisfied: PyYAML>=5.3.1 in c:\\users\\91808\\anaconda3\\lib\\site-packages (from -r requirements.txt (line 11)) (6.0.1)\n",
      "Requirement already satisfied: requests>=2.32.2 in c:\\users\\91808\\anaconda3\\lib\\site-packages (from -r requirements.txt (line 12)) (2.32.2)\n",
      "Requirement already satisfied: scipy>=1.4.1 in c:\\users\\91808\\anaconda3\\lib\\site-packages (from -r requirements.txt (line 13)) (1.13.1)\n",
      "Requirement already satisfied: thop>=0.1.1 in c:\\users\\91808\\anaconda3\\lib\\site-packages (from -r requirements.txt (line 14)) (0.1.1.post2209072238)\n",
      "Requirement already satisfied: torch>=1.8.0 in c:\\users\\91808\\anaconda3\\lib\\site-packages (from -r requirements.txt (line 15)) (2.6.0)\n",
      "Requirement already satisfied: torchvision>=0.9.0 in c:\\users\\91808\\anaconda3\\lib\\site-packages (from -r requirements.txt (line 16)) (0.21.0)\n",
      "Requirement already satisfied: tqdm>=4.66.3 in c:\\users\\91808\\anaconda3\\lib\\site-packages (from -r requirements.txt (line 17)) (4.66.4)\n",
      "Requirement already satisfied: ultralytics>=8.2.34 in c:\\users\\91808\\anaconda3\\lib\\site-packages (from -r requirements.txt (line 18)) (8.3.109)\n",
      "Requirement already satisfied: pandas>=1.1.4 in c:\\users\\91808\\anaconda3\\lib\\site-packages (from -r requirements.txt (line 27)) (2.2.2)\n",
      "Requirement already satisfied: seaborn>=0.11.0 in c:\\users\\91808\\anaconda3\\lib\\site-packages (from -r requirements.txt (line 28)) (0.13.2)\n",
      "Requirement already satisfied: setuptools>=70.0.0 in c:\\users\\91808\\anaconda3\\lib\\site-packages (from -r requirements.txt (line 42)) (78.1.0)\n",
      "Requirement already satisfied: gitdb<5,>=4.0.1 in c:\\users\\91808\\anaconda3\\lib\\site-packages (from gitpython>=3.1.30->-r requirements.txt (line 5)) (4.0.7)\n",
      "Requirement already satisfied: contourpy>=1.0.1 in c:\\users\\91808\\anaconda3\\lib\\site-packages (from matplotlib>=3.3->-r requirements.txt (line 6)) (1.2.0)\n",
      "Requirement already satisfied: cycler>=0.10 in c:\\users\\91808\\anaconda3\\lib\\site-packages (from matplotlib>=3.3->-r requirements.txt (line 6)) (0.11.0)\n",
      "Requirement already satisfied: fonttools>=4.22.0 in c:\\users\\91808\\anaconda3\\lib\\site-packages (from matplotlib>=3.3->-r requirements.txt (line 6)) (4.51.0)\n",
      "Requirement already satisfied: kiwisolver>=1.3.1 in c:\\users\\91808\\anaconda3\\lib\\site-packages (from matplotlib>=3.3->-r requirements.txt (line 6)) (1.4.4)\n",
      "Requirement already satisfied: packaging>=20.0 in c:\\users\\91808\\appdata\\roaming\\python\\python312\\site-packages (from matplotlib>=3.3->-r requirements.txt (line 6)) (24.2)\n",
      "Requirement already satisfied: pyparsing>=2.3.1 in c:\\users\\91808\\anaconda3\\lib\\site-packages (from matplotlib>=3.3->-r requirements.txt (line 6)) (3.0.9)\n",
      "Requirement already satisfied: python-dateutil>=2.7 in c:\\users\\91808\\appdata\\roaming\\python\\python312\\site-packages (from matplotlib>=3.3->-r requirements.txt (line 6)) (2.9.0.post0)\n",
      "Requirement already satisfied: charset-normalizer<4,>=2 in c:\\users\\91808\\anaconda3\\lib\\site-packages (from requests>=2.32.2->-r requirements.txt (line 12)) (2.0.4)\n",
      "Requirement already satisfied: idna<4,>=2.5 in c:\\users\\91808\\anaconda3\\lib\\site-packages (from requests>=2.32.2->-r requirements.txt (line 12)) (3.7)\n",
      "Requirement already satisfied: urllib3<3,>=1.21.1 in c:\\users\\91808\\anaconda3\\lib\\site-packages (from requests>=2.32.2->-r requirements.txt (line 12)) (2.2.2)\n",
      "Requirement already satisfied: certifi>=2017.4.17 in c:\\users\\91808\\anaconda3\\lib\\site-packages (from requests>=2.32.2->-r requirements.txt (line 12)) (2024.6.2)\n",
      "Requirement already satisfied: filelock in c:\\users\\91808\\anaconda3\\lib\\site-packages (from torch>=1.8.0->-r requirements.txt (line 15)) (3.13.1)\n",
      "Requirement already satisfied: typing-extensions>=4.10.0 in c:\\users\\91808\\anaconda3\\lib\\site-packages (from torch>=1.8.0->-r requirements.txt (line 15)) (4.11.0)\n",
      "Requirement already satisfied: networkx in c:\\users\\91808\\anaconda3\\lib\\site-packages (from torch>=1.8.0->-r requirements.txt (line 15)) (3.2.1)\n",
      "Requirement already satisfied: jinja2 in c:\\users\\91808\\anaconda3\\lib\\site-packages (from torch>=1.8.0->-r requirements.txt (line 15)) (3.1.4)\n",
      "Requirement already satisfied: fsspec in c:\\users\\91808\\anaconda3\\lib\\site-packages (from torch>=1.8.0->-r requirements.txt (line 15)) (2024.3.1)\n",
      "Requirement already satisfied: sympy==1.13.1 in c:\\users\\91808\\anaconda3\\lib\\site-packages (from torch>=1.8.0->-r requirements.txt (line 15)) (1.13.1)\n",
      "Requirement already satisfied: mpmath<1.4,>=1.1.0 in c:\\users\\91808\\anaconda3\\lib\\site-packages (from sympy==1.13.1->torch>=1.8.0->-r requirements.txt (line 15)) (1.3.0)\n",
      "Requirement already satisfied: colorama in c:\\users\\91808\\appdata\\roaming\\python\\python312\\site-packages (from tqdm>=4.66.3->-r requirements.txt (line 17)) (0.4.6)\n",
      "Requirement already satisfied: py-cpuinfo in c:\\users\\91808\\anaconda3\\lib\\site-packages (from ultralytics>=8.2.34->-r requirements.txt (line 18)) (9.0.0)\n",
      "Requirement already satisfied: ultralytics-thop>=2.0.0 in c:\\users\\91808\\anaconda3\\lib\\site-packages (from ultralytics>=8.2.34->-r requirements.txt (line 18)) (2.0.14)\n",
      "Requirement already satisfied: pytz>=2020.1 in c:\\users\\91808\\anaconda3\\lib\\site-packages (from pandas>=1.1.4->-r requirements.txt (line 27)) (2024.1)\n",
      "Requirement already satisfied: tzdata>=2022.7 in c:\\users\\91808\\anaconda3\\lib\\site-packages (from pandas>=1.1.4->-r requirements.txt (line 27)) (2023.3)\n",
      "Requirement already satisfied: smmap<5,>=3.0.1 in c:\\users\\91808\\anaconda3\\lib\\site-packages (from gitdb<5,>=4.0.1->gitpython>=3.1.30->-r requirements.txt (line 5)) (4.0.0)\n",
      "Requirement already satisfied: six>=1.5 in c:\\users\\91808\\appdata\\roaming\\python\\python312\\site-packages (from python-dateutil>=2.7->matplotlib>=3.3->-r requirements.txt (line 6)) (1.16.0)\n",
      "Requirement already satisfied: MarkupSafe>=2.0 in c:\\users\\91808\\anaconda3\\lib\\site-packages (from jinja2->torch>=1.8.0->-r requirements.txt (line 15)) (2.1.3)\n"
     ]
    }
   ],
   "source": [
    "!pip install -r requirements.txt"
   ]
  },
  {
   "cell_type": "code",
   "execution_count": 2,
   "id": "4c891504",
   "metadata": {},
   "outputs": [
    {
     "name": "stdout",
     "output_type": "stream",
     "text": [
      "[WinError 3] The system cannot find the path specified: 'Custom_YoloV5/yolov5'\n",
      "c:\\Users\\91808\\Documents\\PW\\7. Deep Learning\\4. Object Detection\\yolov5\n"
     ]
    },
    {
     "name": "stderr",
     "output_type": "stream",
     "text": [
      "C:\\Users\\91808\\AppData\\Roaming\\Python\\Python312\\site-packages\\IPython\\core\\magics\\osm.py:393: UserWarning: This is now an optional IPython functionality, using bookmarks requires you to install the `pickleshare` library.\n",
      "  bkms = self.shell.db.get('bookmarks', {})\n",
      "  % Total    % Received % Xferd  Average Speed   Time    Time     Time  Current\n",
      "                                 Dload  Upload   Total   Spent    Left  Speed\n",
      "\n",
      "  0     0    0     0    0     0      0      0 --:--:-- --:--:-- --:--:--     0\n",
      "  0     0    0     0    0     0      0      0 --:--:-- --:--:-- --:--:--     0\n",
      "100   910  100   910    0     0    652      0  0:00:01  0:00:01 --:--:--   653\n",
      "100   910  100   910    0     0    652      0  0:00:01  0:00:01 --:--:--   653\n",
      "\n",
      "  0 1005k    0  5118    0     0   2108      0  0:08:08  0:00:02  0:08:06  2108\n",
      "  6 1005k    6 68819    0     0  22609      0  0:00:45  0:00:03  0:00:42  100k\n",
      " 43 1005k   43  432k    0     0   107k      0  0:00:09  0:00:04  0:00:05  264k\n",
      " 97 1005k   97  980k    0     0   192k      0  0:00:05  0:00:05 --:--:--  366k\n",
      "100 1005k  100 1005k    0     0   191k      0  0:00:05  0:00:05 --:--:--  352k\n",
      "curl: (3) URL rejected: Bad hostname\n",
      "  % Total    % Received % Xferd  Average Speed   Time    Time     Time  Current\n",
      "                                 Dload  Upload   Total   Spent    Left  Speed\n",
      "\n",
      "  0     0    0     0    0     0      0      0 --:--:-- --:--:-- --:--:--     0\n",
      "  0     0    0     0    0     0      0      0 --:--:-- --:--:-- --:--:--     0\n",
      "  0     0    0     0    0     0      0      0 --:--:--  0:00:01 --:--:--     0\n",
      "  0     0    0     0    0     0      0      0 --:--:--  0:00:02 --:--:--     0\n",
      "  0     0    0     0    0     0      0      0 --:--:--  0:00:03 --:--:--     0\n",
      "  0     0    0     0    0     0      0      0 --:--:--  0:00:04 --:--:--     0\n",
      "  0     0    0     0    0     0      0      0 --:--:--  0:00:05 --:--:--     0\n",
      "  0     0    0     0    0     0      0      0 --:--:--  0:00:07 --:--:--     0curl: (6) Could not resolve host: unzip\n",
      "curl: (3) URL rejected: Bad hostname\n",
      "  % Total    % Received % Xferd  Average Speed   Time    Time     Time  Current\n",
      "                                 Dload  Upload   Total   Spent    Left  Speed\n",
      "\n",
      "  0     0    0     0    0     0      0      0 --:--:-- --:--:-- --:--:--     0\n",
      "  0     0    0     0    0     0      0      0 --:--:-- --:--:-- --:--:--     0\n",
      "  0     0    0     0    0     0      0      0 --:--:--  0:00:01 --:--:--     0\n",
      "  0     0    0     0    0     0      0      0 --:--:--  0:00:02 --:--:--     0curl: (6) Could not resolve host: rm\n",
      "  % Total    % Received % Xferd  Average Speed   Time    Time     Time  Current\n",
      "                                 Dload  Upload   Total   Spent    Left  Speed\n",
      "\n",
      "  0     0    0     0    0     0      0      0 --:--:-- --:--:-- --:--:--     0curl: (6) Could not resolve host: SKU.zip\n"
     ]
    }
   ],
   "source": [
    "%cd Custom_YoloV5/yolov5\n",
    "!curl -L \"https://app.roboflow.com/ds/87xlDYwZRa?key=9AGS5pPZrx\" > SKU.zip; unzip SKU.zip; rm SKU.zip"
   ]
  },
  {
   "cell_type": "code",
   "execution_count": 1,
   "id": "ca370fa9",
   "metadata": {},
   "outputs": [
    {
     "name": "stdout",
     "output_type": "stream",
     "text": [
      "3\n"
     ]
    }
   ],
   "source": [
    "import yaml\n",
    "with open('SKU/data.yaml', 'r') as stream:\n",
    "    num_classes = yaml.safe_load(stream)['nc']\n",
    "print(num_classes)"
   ]
  },
  {
   "cell_type": "code",
   "execution_count": 2,
   "id": "2a340c61",
   "metadata": {},
   "outputs": [
    {
     "data": {
      "text/plain": [
       "{'nc': 80,\n",
       " 'depth_multiple': 0.33,\n",
       " 'width_multiple': 0.5,\n",
       " 'anchors': [[10, 13, 16, 30, 33, 23],\n",
       "  [30, 61, 62, 45, 59, 119],\n",
       "  [116, 90, 156, 198, 373, 326]],\n",
       " 'backbone': [[-1, 1, 'Conv', [64, 6, 2, 2]],\n",
       "  [-1, 1, 'Conv', [128, 3, 2]],\n",
       "  [-1, 3, 'C3', [128]],\n",
       "  [-1, 1, 'Conv', [256, 3, 2]],\n",
       "  [-1, 6, 'C3', [256]],\n",
       "  [-1, 1, 'Conv', [512, 3, 2]],\n",
       "  [-1, 9, 'C3', [512]],\n",
       "  [-1, 1, 'Conv', [1024, 3, 2]],\n",
       "  [-1, 3, 'C3', [1024]],\n",
       "  [-1, 1, 'SPPF', [1024, 5]]],\n",
       " 'head': [[-1, 1, 'Conv', [512, 1, 1]],\n",
       "  [-1, 1, 'nn.Upsample', ['None', 2, 'nearest']],\n",
       "  [[-1, 6], 1, 'Concat', [1]],\n",
       "  [-1, 3, 'C3', [512, False]],\n",
       "  [-1, 1, 'Conv', [256, 1, 1]],\n",
       "  [-1, 1, 'nn.Upsample', ['None', 2, 'nearest']],\n",
       "  [[-1, 4], 1, 'Concat', [1]],\n",
       "  [-1, 3, 'C3', [256, False]],\n",
       "  [-1, 1, 'Conv', [256, 3, 2]],\n",
       "  [[-1, 14], 1, 'Concat', [1]],\n",
       "  [-1, 3, 'C3', [512, False]],\n",
       "  [-1, 1, 'Conv', [512, 3, 2]],\n",
       "  [[-1, 10], 1, 'Concat', [1]],\n",
       "  [-1, 3, 'C3', [1024, False]],\n",
       "  [[17, 20, 23], 1, 'Detect', ['nc', 'anchors']]]}"
      ]
     },
     "execution_count": 2,
     "metadata": {},
     "output_type": "execute_result"
    }
   ],
   "source": [
    "with open('models/yolov5s.yaml', 'r') as stream:\n",
    "    data = yaml.safe_load(stream)  \n",
    "data"
   ]
  },
  {
   "cell_type": "code",
   "execution_count": 24,
   "id": "e25ccc65",
   "metadata": {},
   "outputs": [],
   "source": [
    "#customize iPython writefile so we can write variables\n",
    "from IPython.core.magic import register_line_cell_magic\n",
    "\n",
    "@register_line_cell_magic\n",
    "def writetemplate(line, cell):\n",
    "    with open(line, 'w') as f:\n",
    "        f.write(cell.format(**globals()))"
   ]
  },
  {
   "cell_type": "code",
   "execution_count": 25,
   "id": "646e8700",
   "metadata": {},
   "outputs": [
    {
     "data": {
      "text/plain": [
       "3"
      ]
     },
     "execution_count": 25,
     "metadata": {},
     "output_type": "execute_result"
    }
   ],
   "source": [
    "num_classes"
   ]
  },
  {
   "cell_type": "code",
   "execution_count": 26,
   "id": "cce8cb40",
   "metadata": {},
   "outputs": [],
   "source": [
    "%%writetemplate models/custom_yolov5s.yaml\n",
    "\n",
    "# parameters\n",
    "nc: {num_classes}  # number of classes\n",
    "depth_multiple: 2  # model depth multiple\n",
    "width_multiple: 1  # layer channel multiple\n",
    "\n",
    "# anchors\n",
    "anchors:\n",
    "  - [10,13, 16,30, 33,23]  # P3/8\n",
    "  - [30,61, 62,45, 59,119]  # P4/16\n",
    "  - [116,90, 156,198, 373,326]  # P5/32\n",
    "\n",
    "# YOLOv5 backbone\n",
    "backbone:\n",
    "  # [from, number, module, args]\n",
    "  [[-1, 1, Focus, [64, 3]],  # 0-P1/2\n",
    "   [-1, 1, Conv, [128, 3, 2]],  # 1-P2/4\n",
    "   [-1, 3, BottleneckCSP, [128]],\n",
    "   [-1, 1, Conv, [256, 3, 2]],  # 3-P3/8\n",
    "   [-1, 9, BottleneckCSP, [256]],\n",
    "   [-1, 1, Conv, [512, 3, 2]],  # 5-P4/16\n",
    "   [-1, 9, BottleneckCSP, [512]],\n",
    "   [-1, 1, Conv, [1024, 3, 2]],  # 7-P5/32\n",
    "   [-1, 1, SPP, [1024, [5, 9, 13]]],\n",
    "   [-1, 3, BottleneckCSP, [1024, False]],  # 9\n",
    "  ]\n",
    "\n",
    "# YOLOv5 head\n",
    "head:\n",
    "  [[-1, 1, Conv, [512, 1, 1]],\n",
    "   [-1, 1, nn.Upsample, [None, 2, 'nearest']],\n",
    "   [[-1, 6], 1, Concat, [1]],  # cat backbone P4\n",
    "   [-1, 3, BottleneckCSP, [512, False]],  # 13\n",
    "\n",
    "   [-1, 1, Conv, [256, 1, 1]],\n",
    "   [-1, 1, nn.Upsample, [None, 2, 'nearest']],\n",
    "   [[-1, 4], 1, Concat, [1]],  # cat backbone P3\n",
    "   [-1, 3, BottleneckCSP, [256, False]],  # 17 (P3/8-small)\n",
    "\n",
    "   [-1, 1, Conv, [256, 3, 2]],\n",
    "   [[-1, 14], 1, Concat, [1]],  # cat head P4\n",
    "   [-1, 3, BottleneckCSP, [512, False]],  # 20 (P4/16-medium)\n",
    "\n",
    "   [-1, 1, Conv, [512, 3, 2]],\n",
    "   [[-1, 10], 1, Concat, [1]],  # cat head P5\n",
    "   [-1, 3, BottleneckCSP, [1024, False]],  # 23 (P5/32-large)\n",
    "\n",
    "   [[17, 20, 23], 1, Detect, [nc, anchors]],  # Detect(P3, P4, P5)\n",
    "  ]"
   ]
  },
  {
   "cell_type": "code",
   "execution_count": 3,
   "id": "4d335051",
   "metadata": {},
   "outputs": [
    {
     "data": {
      "text/plain": [
       "{'nc': 80,\n",
       " 'depth_multiple': 0.33,\n",
       " 'width_multiple': 0.5,\n",
       " 'anchors': [[10, 13, 16, 30, 33, 23],\n",
       "  [30, 61, 62, 45, 59, 119],\n",
       "  [116, 90, 156, 198, 373, 326]],\n",
       " 'backbone': [[-1, 1, 'Conv', [64, 6, 2, 2]],\n",
       "  [-1, 1, 'Conv', [128, 3, 2]],\n",
       "  [-1, 3, 'C3', [128]],\n",
       "  [-1, 1, 'Conv', [256, 3, 2]],\n",
       "  [-1, 6, 'C3', [256]],\n",
       "  [-1, 1, 'Conv', [512, 3, 2]],\n",
       "  [-1, 9, 'C3', [512]],\n",
       "  [-1, 1, 'Conv', [1024, 3, 2]],\n",
       "  [-1, 3, 'C3', [1024]],\n",
       "  [-1, 1, 'SPPF', [1024, 5]]],\n",
       " 'head': [[-1, 1, 'Conv', [512, 1, 1]],\n",
       "  [-1, 1, 'nn.Upsample', ['None', 2, 'nearest']],\n",
       "  [[-1, 6], 1, 'Concat', [1]],\n",
       "  [-1, 3, 'C3', [512, False]],\n",
       "  [-1, 1, 'Conv', [256, 1, 1]],\n",
       "  [-1, 1, 'nn.Upsample', ['None', 2, 'nearest']],\n",
       "  [[-1, 4], 1, 'Concat', [1]],\n",
       "  [-1, 3, 'C3', [256, False]],\n",
       "  [-1, 1, 'Conv', [256, 3, 2]],\n",
       "  [[-1, 14], 1, 'Concat', [1]],\n",
       "  [-1, 3, 'C3', [512, False]],\n",
       "  [-1, 1, 'Conv', [512, 3, 2]],\n",
       "  [[-1, 10], 1, 'Concat', [1]],\n",
       "  [-1, 3, 'C3', [1024, False]],\n",
       "  [[17, 20, 23], 1, 'Detect', ['nc', 'anchors']]]}"
      ]
     },
     "execution_count": 3,
     "metadata": {},
     "output_type": "execute_result"
    }
   ],
   "source": [
    "with open('models/yolov5s.yaml', 'r') as stream:\n",
    "    data = yaml.safe_load(stream)  \n",
    "data"
   ]
  },
  {
   "cell_type": "code",
   "execution_count": null,
   "id": "cfa15489",
   "metadata": {},
   "outputs": [],
   "source": [
    "import torch\n",
    "%cd Custom_YoloV5/yolov5\n",
    "!python train.py --img 640 --batch 5 --epochs 5 --data SKU/data.yaml --cfg models/custom_yolov5s.yaml --weights yolov5s.pt --name custom-yolov5s-results --cache"
   ]
  },
  {
   "cell_type": "code",
   "execution_count": null,
   "id": "e4f838e7",
   "metadata": {},
   "outputs": [],
   "source": [
    "from utils.plots import plot_results\n",
    "Image(filename='/train/yolov5s_results/results.png', width=1000)"
   ]
  }
 ],
 "metadata": {
  "kernelspec": {
   "display_name": "base",
   "language": "python",
   "name": "python3"
  },
  "language_info": {
   "codemirror_mode": {
    "name": "ipython",
    "version": 3
   },
   "file_extension": ".py",
   "mimetype": "text/x-python",
   "name": "python",
   "nbconvert_exporter": "python",
   "pygments_lexer": "ipython3",
   "version": "3.12.4"
  }
 },
 "nbformat": 4,
 "nbformat_minor": 5
}
